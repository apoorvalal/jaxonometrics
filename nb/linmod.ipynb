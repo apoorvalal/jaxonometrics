{
 "cells": [
  {
   "cell_type": "markdown",
   "id": "b1dfc7b8",
   "metadata": {
    "papermill": {
     "duration": 0.027127,
     "end_time": "2025-06-29T05:16:03.517500",
     "exception": false,
     "start_time": "2025-06-29T05:16:03.490373",
     "status": "completed"
    },
    "tags": []
   },
   "source": [
    "# Linear Model Comparison: statsmodels, pyfixest, and jaxonometrics\n",
    "\n",
    "This notebook compares the performance of three different libraries for linear regression: `statsmodels`, `pyfixest`, and `jaxonometrics`. We will use a high-dimensional sparse DGP to highlight the differences in performance."
   ]
  },
  {
   "cell_type": "code",
   "execution_count": 1,
   "id": "f5bf6ed4",
   "metadata": {
    "execution": {
     "iopub.execute_input": "2025-06-29T05:16:03.559707Z",
     "iopub.status.busy": "2025-06-29T05:16:03.558644Z",
     "iopub.status.idle": "2025-06-29T05:16:06.920801Z",
     "shell.execute_reply": "2025-06-29T05:16:06.920027Z"
    },
    "papermill": {
     "duration": 3.375505,
     "end_time": "2025-06-29T05:16:06.922260",
     "exception": false,
     "start_time": "2025-06-29T05:16:03.546755",
     "status": "completed"
    },
    "tags": []
   },
   "outputs": [],
   "source": [
    "import warnings\n",
    "\n",
    "import numpy as np\n",
    "import pandas as pd\n",
    "\n",
    "import jax\n",
    "\n",
    "import jax.numpy as jnp\n",
    "import statsmodels.api as sm\n",
    "from pyfixest.estimation import feols\n",
    "from jaxonometrics.linear import LinearRegression"
   ]
  },
  {
   "cell_type": "code",
   "execution_count": 2,
   "id": "9f571389",
   "metadata": {},
   "outputs": [
    {
     "name": "stderr",
     "output_type": "stream",
     "text": [
      "INFO:2025-06-29 15:23:13,113:jax._src.xla_bridge:752: Unable to initialize backend 'tpu': INTERNAL: Failed to open libtpu.so: libtpu.so: cannot open shared object file: No such file or directory\n",
      "INFO:jax._src.xla_bridge:Unable to initialize backend 'tpu': INTERNAL: Failed to open libtpu.so: libtpu.so: cannot open shared object file: No such file or directory\n"
     ]
    },
    {
     "data": {
      "text/plain": [
       "[CpuDevice(id=0)]"
      ]
     },
     "execution_count": 2,
     "metadata": {},
     "output_type": "execute_result"
    }
   ],
   "source": [
    "jax.devices()"
   ]
  },
  {
   "cell_type": "code",
   "execution_count": 3,
   "id": "70b47c6b",
   "metadata": {},
   "outputs": [
    {
     "data": {
      "text/plain": [
       "CpuDevice(id=0)"
      ]
     },
     "execution_count": 3,
     "metadata": {},
     "output_type": "execute_result"
    }
   ],
   "source": [
    "a = jnp.array([1, 2, 3])\n",
    "a.device"
   ]
  },
  {
   "cell_type": "markdown",
   "id": "4a577c9a",
   "metadata": {
    "papermill": {
     "duration": 0.007598,
     "end_time": "2025-06-29T05:16:06.932171",
     "exception": false,
     "start_time": "2025-06-29T05:16:06.924573",
     "status": "completed"
    },
    "tags": []
   },
   "source": [
    "## DGP"
   ]
  },
  {
   "cell_type": "code",
   "execution_count": 4,
   "id": "fc4d98ef",
   "metadata": {
    "execution": {
     "iopub.execute_input": "2025-06-29T05:16:06.939018Z",
     "iopub.status.busy": "2025-06-29T05:16:06.937726Z",
     "iopub.status.idle": "2025-06-29T05:16:06.943867Z",
     "shell.execute_reply": "2025-06-29T05:16:06.943037Z"
    },
    "papermill": {
     "duration": 0.010632,
     "end_time": "2025-06-29T05:16:06.945045",
     "exception": false,
     "start_time": "2025-06-29T05:16:06.934413",
     "status": "completed"
    },
    "tags": []
   },
   "outputs": [],
   "source": [
    "def sparse_dgp(n=10_000, p=20_000, eta=0.2):\n",
    "    X = np.c_[np.ones(n), np.random.normal(size=n * p).reshape((n, p))]\n",
    "    β, nzcount = np.repeat(0.0, p + 1), int(eta * p)\n",
    "    # eta% coefs are non-zero\n",
    "    nzid = np.random.choice(p, nzcount, replace=False)\n",
    "    β[nzid] = np.random.uniform(-2, 3, nzcount)\n",
    "    # heteroskedasticity\n",
    "    e = np.random.normal(0, 0.5 + (0.2 * X[:, 1] > 0), n)\n",
    "    y = X @ β + e\n",
    "    return y, X, β"
   ]
  },
  {
   "cell_type": "markdown",
   "id": "13c08e84",
   "metadata": {},
   "source": [
    "## Low-Dim"
   ]
  },
  {
   "cell_type": "code",
   "execution_count": 5,
   "id": "628ad440",
   "metadata": {},
   "outputs": [],
   "source": [
    "n, p = 10_000, 20"
   ]
  },
  {
   "cell_type": "markdown",
   "id": "088ebaa1",
   "metadata": {},
   "source": [
    "### statsmodels"
   ]
  },
  {
   "cell_type": "code",
   "execution_count": 6,
   "id": "78af31e3",
   "metadata": {},
   "outputs": [
    {
     "name": "stdout",
     "output_type": "stream",
     "text": [
      "24.5 ms ± 930 μs per loop (mean ± std. dev. of 5 runs, 100 loops each)\n"
     ]
    }
   ],
   "source": [
    "%%timeit -n 100 -r 5\n",
    "y, X, beta = sparse_dgp(n, p)\n",
    "m = sm.OLS(y, X).fit()"
   ]
  },
  {
   "cell_type": "markdown",
   "id": "33611be5",
   "metadata": {},
   "source": [
    "### pyfixest"
   ]
  },
  {
   "cell_type": "code",
   "execution_count": 7,
   "id": "e9a1a4ea",
   "metadata": {},
   "outputs": [
    {
     "name": "stdout",
     "output_type": "stream",
     "text": [
      "126 ms ± 2.79 ms per loop (mean ± std. dev. of 5 runs, 100 loops each)\n",
      "Compiler time: 0.19 s\n"
     ]
    }
   ],
   "source": [
    "%%timeit -n 100 -r 5\n",
    "y, X, beta = sparse_dgp(n, p)\n",
    "df = pd.DataFrame(X, columns=[f\"x{i}\" for i in range(X.shape[1])])\n",
    "df[\"y\"] = y\n",
    "with warnings.catch_warnings():\n",
    "    warnings.simplefilter(\"ignore\")\n",
    "    fixest_model = feols(\n",
    "        f\"y ~ -1 + {'+'.join([f'x{i}' for i in range(X.shape[1])])}\", data=df\n",
    "    )"
   ]
  },
  {
   "cell_type": "markdown",
   "id": "93aeb41d",
   "metadata": {},
   "source": [
    "### jaxonometrics"
   ]
  },
  {
   "cell_type": "markdown",
   "id": "5e06ff3f",
   "metadata": {},
   "source": [
    "#### lineax backend "
   ]
  },
  {
   "cell_type": "code",
   "execution_count": 8,
   "id": "25b0053d",
   "metadata": {},
   "outputs": [
    {
     "name": "stdout",
     "output_type": "stream",
     "text": [
      "9.56 ms ± 1.5 ms per loop (mean ± std. dev. of 5 runs, 100 loops each)\n"
     ]
    }
   ],
   "source": [
    "%%timeit -n 100 -r 5\n",
    "y, X, beta = sparse_dgp(n, p)\n",
    "Xj, yj = jnp.array(X), jnp.array(y)\n",
    "LinearRegression(solver=\"lineax\").fit(Xj, yj, se=\"HC1\")"
   ]
  },
  {
   "cell_type": "markdown",
   "id": "da9edf23",
   "metadata": {},
   "source": [
    "#### jax linalg solve backend"
   ]
  },
  {
   "cell_type": "code",
   "execution_count": 9,
   "id": "051697e3",
   "metadata": {},
   "outputs": [
    {
     "name": "stdout",
     "output_type": "stream",
     "text": [
      "12.8 ms ± 1.03 ms per loop (mean ± std. dev. of 5 runs, 100 loops each)\n"
     ]
    }
   ],
   "source": [
    "%%timeit -n 100 -r 5\n",
    "y, X, beta = sparse_dgp(n, p)\n",
    "Xj, yj = jnp.array(X), jnp.array(y)\n",
    "LinearRegression(solver=\"jax\").fit(Xj, yj, se=\"HC1\")"
   ]
  },
  {
   "cell_type": "markdown",
   "id": "058963a9",
   "metadata": {},
   "source": [
    "#### numpy backend"
   ]
  },
  {
   "cell_type": "code",
   "execution_count": 10,
   "id": "adf665e3",
   "metadata": {},
   "outputs": [
    {
     "name": "stdout",
     "output_type": "stream",
     "text": [
      "8.71 ms ± 782 μs per loop (mean ± std. dev. of 5 runs, 100 loops each)\n"
     ]
    }
   ],
   "source": [
    "%%timeit -n 100 -r 5\n",
    "y, X, beta = sparse_dgp(n, p)\n",
    "LinearRegression(solver=\"numpy\").fit(X, y, se=\"HC1\")"
   ]
  },
  {
   "cell_type": "markdown",
   "id": "97b2b62d",
   "metadata": {
    "papermill": {
     "duration": 0.001963,
     "end_time": "2025-06-29T05:16:06.961390",
     "exception": false,
     "start_time": "2025-06-29T05:16:06.959427",
     "status": "completed"
    },
    "tags": []
   },
   "source": [
    "## High-Dim"
   ]
  },
  {
   "cell_type": "code",
   "execution_count": 11,
   "id": "9fb59368",
   "metadata": {},
   "outputs": [],
   "source": [
    "n, p = 10_000, 1_000"
   ]
  },
  {
   "cell_type": "markdown",
   "id": "4406b067",
   "metadata": {},
   "source": [
    "### pyfixest"
   ]
  },
  {
   "cell_type": "code",
   "execution_count": 12,
   "id": "04aef32f",
   "metadata": {},
   "outputs": [
    {
     "name": "stdout",
     "output_type": "stream",
     "text": [
      "1.42 s ± 28.3 ms per loop (mean ± std. dev. of 5 runs, 10 loops each)\n"
     ]
    }
   ],
   "source": [
    "%%timeit -n 10 -r 5\n",
    "y, X, beta = sparse_dgp(n, p)\n",
    "df = pd.DataFrame(X, columns=[f\"x{i}\" for i in range(X.shape[1])])\n",
    "df[\"y\"] = y\n",
    "with warnings.catch_warnings():\n",
    "    warnings.simplefilter(\"ignore\")\n",
    "    fixest_model = feols(\n",
    "        f\"y ~ -1 + {'+'.join([f'x{i}' for i in range(X.shape[1])])}\", data=df\n",
    "    )\n"
   ]
  },
  {
   "cell_type": "markdown",
   "id": "2845de80",
   "metadata": {},
   "source": [
    "### jaxonometrics"
   ]
  },
  {
   "cell_type": "markdown",
   "id": "24d57db0",
   "metadata": {},
   "source": [
    "#### lineax backend "
   ]
  },
  {
   "cell_type": "code",
   "execution_count": 13,
   "id": "3cbc0deb",
   "metadata": {},
   "outputs": [
    {
     "name": "stdout",
     "output_type": "stream",
     "text": [
      "1.6 s ± 60 ms per loop (mean ± std. dev. of 5 runs, 10 loops each)\n"
     ]
    }
   ],
   "source": [
    "%%timeit -n 10 -r 5\n",
    "y, X, beta = sparse_dgp(n, p)\n",
    "Xj, yj = jnp.array(X), jnp.array(y)\n",
    "LinearRegression(solver=\"lineax\").fit(Xj, yj, se=\"HC1\")"
   ]
  },
  {
   "cell_type": "markdown",
   "id": "524ab25a",
   "metadata": {},
   "source": [
    "#### jax-numpy linalg solve backend"
   ]
  },
  {
   "cell_type": "code",
   "execution_count": 14,
   "id": "c797ea48",
   "metadata": {},
   "outputs": [
    {
     "name": "stdout",
     "output_type": "stream",
     "text": [
      "2.13 s ± 669 ms per loop (mean ± std. dev. of 5 runs, 10 loops each)\n"
     ]
    }
   ],
   "source": [
    "%%timeit -n 10 -r 5\n",
    "y, X, beta = sparse_dgp(n, p)\n",
    "Xj, yj = jnp.array(X), jnp.array(y)\n",
    "LinearRegression(solver=\"jax\").fit(Xj, yj, se=\"HC1\")"
   ]
  },
  {
   "cell_type": "markdown",
   "id": "b00a356d",
   "metadata": {},
   "source": [
    "### statsmodels\n",
    "\n",
    "slows to a crawl."
   ]
  },
  {
   "cell_type": "code",
   "execution_count": null,
   "id": "3547ca24",
   "metadata": {},
   "outputs": [],
   "source": [
    "%%timeit -n 10 -r 5\n",
    "y, X, beta = sparse_dgp(n, p)\n",
    "m = sm.OLS(y, X).fit()"
   ]
  }
 ],
 "metadata": {
  "kernelspec": {
   "display_name": ".venv",
   "language": "python",
   "name": "python3"
  },
  "language_info": {
   "codemirror_mode": {
    "name": "ipython",
    "version": 3
   },
   "file_extension": ".py",
   "mimetype": "text/x-python",
   "name": "python",
   "nbconvert_exporter": "python",
   "pygments_lexer": "ipython3",
   "version": "3.12.6"
  },
  "papermill": {
   "default_parameters": {},
   "duration": null,
   "end_time": null,
   "environment_variables": {},
   "exception": null,
   "input_path": "linear_model_comparison.ipynb",
   "output_path": "linmod.ipynb",
   "parameters": {},
   "start_time": "2025-06-29T05:16:02.288218",
   "version": "2.6.0"
  }
 },
 "nbformat": 4,
 "nbformat_minor": 5
}
