{
 "cells": [
  {
   "cell_type": "markdown",
   "id": "b1dfc7b8",
   "metadata": {
    "papermill": {
     "duration": 0.027127,
     "end_time": "2025-06-29T05:16:03.517500",
     "exception": false,
     "start_time": "2025-06-29T05:16:03.490373",
     "status": "completed"
    },
    "tags": []
   },
   "source": [
    "# Linear Model Comparison: statsmodels, pyfixest, and jaxonometrics\n",
    "\n",
    "This notebook compares the performance of three different libraries for linear regression: `statsmodels`, `pyfixest`, and `jaxonometrics`. We will use a high-dimensional sparse DGP to highlight the differences in performance."
   ]
  },
  {
   "cell_type": "code",
   "execution_count": 1,
   "id": "f5bf6ed4",
   "metadata": {
    "execution": {
     "iopub.execute_input": "2025-06-29T05:16:03.559707Z",
     "iopub.status.busy": "2025-06-29T05:16:03.558644Z",
     "iopub.status.idle": "2025-06-29T05:16:06.920801Z",
     "shell.execute_reply": "2025-06-29T05:16:06.920027Z"
    },
    "papermill": {
     "duration": 3.375505,
     "end_time": "2025-06-29T05:16:06.922260",
     "exception": false,
     "start_time": "2025-06-29T05:16:03.546755",
     "status": "completed"
    },
    "tags": []
   },
   "outputs": [],
   "source": [
    "import numpy as np\n",
    "import pandas as pd\n",
    "import jax.numpy as jnp\n",
    "import statsmodels.api as sm\n",
    "from pyfixest.estimation import feols\n",
    "from jaxonometrics.linear import LinearRegression\n",
    "import time"
   ]
  },
  {
   "cell_type": "markdown",
   "id": "4a577c9a",
   "metadata": {
    "papermill": {
     "duration": 0.007598,
     "end_time": "2025-06-29T05:16:06.932171",
     "exception": false,
     "start_time": "2025-06-29T05:16:06.924573",
     "status": "completed"
    },
    "tags": []
   },
   "source": [
    "## DGP"
   ]
  },
  {
   "cell_type": "code",
   "execution_count": 2,
   "id": "fc4d98ef",
   "metadata": {
    "execution": {
     "iopub.execute_input": "2025-06-29T05:16:06.939018Z",
     "iopub.status.busy": "2025-06-29T05:16:06.937726Z",
     "iopub.status.idle": "2025-06-29T05:16:06.943867Z",
     "shell.execute_reply": "2025-06-29T05:16:06.943037Z"
    },
    "papermill": {
     "duration": 0.010632,
     "end_time": "2025-06-29T05:16:06.945045",
     "exception": false,
     "start_time": "2025-06-29T05:16:06.934413",
     "status": "completed"
    },
    "tags": []
   },
   "outputs": [],
   "source": [
    "def sparse_dgp(n=10_000, p=20_000, eta=0.1):\n",
    "    X = np.c_[np.ones(n), np.random.normal(size=n * p).reshape((n, p))]\n",
    "    β, nzcount = np.repeat(0.0, p + 1), int(eta * p)\n",
    "    nzid = np.random.choice(p, nzcount, replace=False)\n",
    "    β[nzid] = np.random.randn(nzcount)\n",
    "    e = np.random.normal(0, 0.5 + (0.1 * X[:, 1] > 0), n)\n",
    "    y = X @ β + e\n",
    "    return y, X"
   ]
  },
  {
   "cell_type": "code",
   "execution_count": 3,
   "id": "d15c379b",
   "metadata": {
    "execution": {
     "iopub.execute_input": "2025-06-29T05:16:06.950194Z",
     "iopub.status.busy": "2025-06-29T05:16:06.949949Z",
     "iopub.status.idle": "2025-06-29T05:16:06.956035Z",
     "shell.execute_reply": "2025-06-29T05:16:06.955279Z"
    },
    "papermill": {
     "duration": 0.010128,
     "end_time": "2025-06-29T05:16:06.957289",
     "exception": false,
     "start_time": "2025-06-29T05:16:06.947161",
     "status": "completed"
    },
    "tags": []
   },
   "outputs": [],
   "source": [
    "def onerep(X, y):\n",
    "    # df\n",
    "    df = pd.DataFrame(X, columns=[f\"x{i}\" for i in range(X.shape[1])])\n",
    "    df[\"y\"] = y\n",
    "    # statsmodels\n",
    "    start1 = time.time()\n",
    "    sm_model = sm.OLS(y, X).fit()\n",
    "    sm_time = time.time() - start1\n",
    "    # pyfixest\n",
    "    start2 = time.time()\n",
    "    fixest_model = feols(\n",
    "        f\"y ~ -1 + {'+'.join([f'x{i}' for i in range(X.shape[1])])}\", data=df\n",
    "    )\n",
    "    fixest_time = time.time() - start2\n",
    "    # jax\n",
    "    start3 = time.time()\n",
    "    jax_model = LinearRegression()\n",
    "    jax_model.fit(jnp.array(X), jnp.array(y))\n",
    "    jax_time = time.time() - start3\n",
    "    return {\n",
    "        \"sm_time\": sm_time,\n",
    "        \"fixest_time\": fixest_time,\n",
    "        \"jax_time\": jax_time,\n",
    "        \"sm_params\": sm_model.params,\n",
    "        \"fixest_params\": fixest_model.coef().values,\n",
    "        \"jax_params\": np.array(jax_model.params[\"beta\"]),\n",
    "    }"
   ]
  },
  {
   "cell_type": "markdown",
   "id": "97b2b62d",
   "metadata": {
    "papermill": {
     "duration": 0.001963,
     "end_time": "2025-06-29T05:16:06.961390",
     "exception": false,
     "start_time": "2025-06-29T05:16:06.959427",
     "status": "completed"
    },
    "tags": []
   },
   "source": [
    "### Low-Dim"
   ]
  },
  {
   "cell_type": "code",
   "execution_count": 4,
   "id": "36049be0",
   "metadata": {
    "execution": {
     "iopub.execute_input": "2025-06-29T05:16:06.966426Z",
     "iopub.status.busy": "2025-06-29T05:16:06.966160Z",
     "iopub.status.idle": "2025-06-29T05:16:08.459381Z",
     "shell.execute_reply": "2025-06-29T05:16:08.458611Z"
    },
    "papermill": {
     "duration": 1.497523,
     "end_time": "2025-06-29T05:16:08.460886",
     "exception": false,
     "start_time": "2025-06-29T05:16:06.963363",
     "status": "completed"
    },
    "tags": []
   },
   "outputs": [
    {
     "name": "stderr",
     "output_type": "stream",
     "text": [
      "/home/alal/Desktop/code/econometrics/jaxonometrics/.venv/lib/python3.13/site-packages/pyfixest/estimation/feols_.py:2628: UserWarning: \n",
      "            1 variables dropped due to multicollinearity.\n",
      "            The following variables are dropped: ['x0'].\n",
      "            \n",
      "  warnings.warn(\n",
      "INFO:2025-06-28 22:16:08,080:jax._src.xla_bridge:752: Unable to initialize backend 'tpu': INTERNAL: Failed to open libtpu.so: libtpu.so: cannot open shared object file: No such file or directory\n"
     ]
    },
    {
     "name": "stderr",
     "output_type": "stream",
     "text": [
      "INFO:jax._src.xla_bridge:Unable to initialize backend 'tpu': INTERNAL: Failed to open libtpu.so: libtpu.so: cannot open shared object file: No such file or directory\n"
     ]
    },
    {
     "name": "stdout",
     "output_type": "stream",
     "text": [
      " sm time: 0.0117s, fixest time: 1.0715s, jax time: 0.3841s\n"
     ]
    },
    {
     "data": {
      "text/plain": [
       "(array([-0.00219642,  0.01010658,  0.01650456,  0.00361118,  0.01222154]),\n",
       " array([-0.00219642,  0.01010658,  0.01650456,  0.00361118,  0.01222154]),\n",
       " array([-0.00219641,  0.01010658,  0.01650455,  0.00361117,  0.01222158],\n",
       "       dtype=float32))"
      ]
     },
     "execution_count": 4,
     "metadata": {},
     "output_type": "execute_result"
    }
   ],
   "source": [
    "y, X = sparse_dgp(n = 10_000, p=20)\n",
    "res = onerep(X, y)\n",
    "print(f\" sm time: {res['sm_time']:.4f}s, fixest time: {res['fixest_time']:.4f}s, jax time: {res['jax_time']:.4f}s\")\n",
    "res[\"sm_params\"][:5], res[\"fixest_params\"][:5], res[\"jax_params\"][:5]"
   ]
  },
  {
   "cell_type": "markdown",
   "id": "5709e8df",
   "metadata": {
    "papermill": {
     "duration": 0.003407,
     "end_time": "2025-06-29T05:16:08.468271",
     "exception": false,
     "start_time": "2025-06-29T05:16:08.464864",
     "status": "completed"
    },
    "tags": []
   },
   "source": [
    "### High-Dim"
   ]
  },
  {
   "cell_type": "code",
   "execution_count": 5,
   "id": "691d5fa0",
   "metadata": {
    "execution": {
     "iopub.execute_input": "2025-06-29T05:16:08.477032Z",
     "iopub.status.busy": "2025-06-29T05:16:08.476302Z",
     "iopub.status.idle": "2025-06-29T05:16:40.660938Z",
     "shell.execute_reply": "2025-06-29T05:16:40.660279Z"
    },
    "papermill": {
     "duration": 32.190832,
     "end_time": "2025-06-29T05:16:40.662450",
     "exception": false,
     "start_time": "2025-06-29T05:16:08.471618",
     "status": "completed"
    },
    "tags": []
   },
   "outputs": [
    {
     "name": "stderr",
     "output_type": "stream",
     "text": [
      "/home/alal/Desktop/code/econometrics/jaxonometrics/.venv/lib/python3.13/site-packages/pyfixest/estimation/feols_.py:2628: UserWarning: \n",
      "            1 variables dropped due to multicollinearity.\n",
      "            The following variables are dropped: ['x0'].\n",
      "            \n",
      "  warnings.warn(\n"
     ]
    },
    {
     "name": "stdout",
     "output_type": "stream",
     "text": [
      " sm time: 14.8658s, fixest time: 14.2712s, jax time: 2.2547s\n"
     ]
    },
    {
     "data": {
      "text/plain": [
       "(array([ 0.00146385, -0.00174201, -0.01347367, -0.01551777, -0.02014805]),\n",
       " array([ 0.00146385, -0.00174201, -0.01347367, -0.01551777, -0.02014805]),\n",
       " array([ 0.00146354, -0.00174188, -0.01347361, -0.01551812, -0.02014804],\n",
       "       dtype=float32))"
      ]
     },
     "execution_count": 5,
     "metadata": {},
     "output_type": "execute_result"
    }
   ],
   "source": [
    "y, X = sparse_dgp(n = 10_000, p=2_000)\n",
    "res = onerep(X, y)\n",
    "print(f\" sm time: {res['sm_time']:.4f}s, fixest time: {res['fixest_time']:.4f}s, jax time: {res['jax_time']:.4f}s\")\n",
    "res[\"sm_params\"][:5], res[\"fixest_params\"][:5], res[\"jax_params\"][:5]"
   ]
  },
  {
   "cell_type": "markdown",
   "id": "cbc3f763",
   "metadata": {
    "papermill": {
     "duration": 0.003149,
     "end_time": "2025-06-29T05:16:40.670767",
     "exception": false,
     "start_time": "2025-06-29T05:16:40.667618",
     "status": "completed"
    },
    "tags": []
   },
   "source": [
    "### Ultra-High-Dim / Ill-Posed"
   ]
  },
  {
   "cell_type": "markdown",
   "id": "174ac0ff",
   "metadata": {
    "papermill": {
     "duration": 0.002596,
     "end_time": "2025-06-29T05:16:40.676041",
     "exception": false,
     "start_time": "2025-06-29T05:16:40.673445",
     "status": "completed"
    },
    "tags": []
   },
   "source": [
    "The minimum-norm interpolator is easy to calculate with lineax because it automatically adapts the solver."
   ]
  },
  {
   "cell_type": "code",
   "execution_count": null,
   "id": "b924e5d3",
   "metadata": {
    "papermill": {
     "duration": null,
     "end_time": null,
     "exception": false,
     "start_time": "2025-06-29T05:16:40.678520",
     "status": "running"
    },
    "tags": []
   },
   "outputs": [],
   "source": [
    "y, X = sparse_dgp(n = 10_000, p=20_000)\n",
    "res = onerep(X, y)\n",
    "print(res[\"sm_time\"], res[\"fixest_time\"], res[\"jax_time\"])\n",
    "res[\"sm_params\"][:5], res[\"fixest_params\"][:5], res[\"jax_params\"][:5]"
   ]
  }
 ],
 "metadata": {
  "kernelspec": {
   "display_name": ".venv",
   "language": "python",
   "name": "python3"
  },
  "language_info": {
   "codemirror_mode": {
    "name": "ipython",
    "version": 3
   },
   "file_extension": ".py",
   "mimetype": "text/x-python",
   "name": "python",
   "nbconvert_exporter": "python",
   "pygments_lexer": "ipython3",
   "version": "3.13.3"
  },
  "papermill": {
   "default_parameters": {},
   "duration": null,
   "end_time": null,
   "environment_variables": {},
   "exception": null,
   "input_path": "linear_model_comparison.ipynb",
   "output_path": "linmod.ipynb",
   "parameters": {},
   "start_time": "2025-06-29T05:16:02.288218",
   "version": "2.6.0"
  }
 },
 "nbformat": 4,
 "nbformat_minor": 5
}